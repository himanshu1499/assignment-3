{
 "cells": [
  {
   "cell_type": "markdown",
   "id": "a380a06b-33cd-4311-8a69-2148120a7616",
   "metadata": {},
   "source": [
    "# which keyword is used to create a function? create a function to return a list of odd numbers in the range of 1 to 25."
   ]
  },
  {
   "cell_type": "code",
   "execution_count": 1,
   "id": "178d6616-3637-4286-b757-ba271579ed02",
   "metadata": {},
   "outputs": [
    {
     "ename": "SyntaxError",
     "evalue": "invalid syntax (575381584.py, line 1)",
     "output_type": "error",
     "traceback": [
      "\u001b[0;36m  Cell \u001b[0;32mIn [1], line 1\u001b[0;36m\u001b[0m\n\u001b[0;31m    ans - def keyword is used to create a function.\u001b[0m\n\u001b[0m          ^\u001b[0m\n\u001b[0;31mSyntaxError\u001b[0m\u001b[0;31m:\u001b[0m invalid syntax\n"
     ]
    }
   ],
   "source": [
    "ans - def keyword is used to create a function.\n"
   ]
  },
  {
   "cell_type": "code",
   "execution_count": 6,
   "id": "eb026180-5f66-4204-9572-09c1e64586a2",
   "metadata": {},
   "outputs": [
    {
     "name": "stdout",
     "output_type": "stream",
     "text": [
      "135791113151719212325"
     ]
    }
   ],
   "source": [
    "def odd(a,b):\n",
    "    if a > b:\n",
    "        return\n",
    "    if a&1:\n",
    "        print(a,end=\"\")\n",
    "        return odd(a+2,b)\n",
    "    else:\n",
    "        return odd(a+1,b)\n",
    "a=1;b=25\n",
    "odd(a,b)"
   ]
  },
  {
   "cell_type": "markdown",
   "id": "ba4f2479-56b0-4f5c-b57f-0043da895631",
   "metadata": {},
   "source": [
    "# why *args and *kwargs is used in some functions? create a function each for *args and **kwargs to demonstrate their use."
   ]
  },
  {
   "cell_type": "code",
   "execution_count": null,
   "id": "980e437f-6872-4bc5-a4cd-a77a5121c08c",
   "metadata": {},
   "outputs": [],
   "source": [
    "ans - we use *args and **kwargs as arguments of a function\n",
    "when you are unsure about the number of arguments to pass in the functions."
   ]
  },
  {
   "cell_type": "code",
   "execution_count": 7,
   "id": "1dd0e2f6-1148-45c8-83ac-5d54e0c4b0aa",
   "metadata": {},
   "outputs": [],
   "source": [
    "def test1(a):\n",
    "    for arg in a:\n",
    "        print(arg)"
   ]
  },
  {
   "cell_type": "code",
   "execution_count": 12,
   "id": "44d2c846-cc35-47b7-9d84-6bd148f1bd06",
   "metadata": {},
   "outputs": [
    {
     "name": "stdout",
     "output_type": "stream",
     "text": [
      "d\n",
      "a\n",
      "t\n",
      "a\n",
      " \n",
      "s\n",
      "c\n",
      "i\n",
      "e\n",
      "n\n",
      "c\n",
      "e\n"
     ]
    }
   ],
   "source": [
    "test1(a = 'data science')"
   ]
  },
  {
   "cell_type": "code",
   "execution_count": 14,
   "id": "ddaa4a19-9126-449e-9964-f62fd87ae97e",
   "metadata": {},
   "outputs": [],
   "source": [
    "def test2(**kwargs):\n",
    "    return kwargs"
   ]
  },
  {
   "cell_type": "code",
   "execution_count": 15,
   "id": "601993ea-ea00-442f-8464-05828ee8cd03",
   "metadata": {},
   "outputs": [
    {
     "data": {
      "text/plain": [
       "{'a': [1, 2, 3, 4], 'b': 'pwskills', 'c': 34.56}"
      ]
     },
     "execution_count": 15,
     "metadata": {},
     "output_type": "execute_result"
    }
   ],
   "source": [
    "test2(a = [1,2,3,4],b=\"pwskills\",c=34.56)"
   ]
  },
  {
   "cell_type": "markdown",
   "id": "6c31908a-d7ef-4072-8670-9bdedde42b7d",
   "metadata": {},
   "source": [
    "# what is a generator function in python?\n",
    " why yield keyword is used? give an example."
   ]
  },
  {
   "cell_type": "code",
   "execution_count": null,
   "id": "dfda6e09-a4c6-4bee-9cce-60e2e9b8e53b",
   "metadata": {},
   "outputs": [],
   "source": [
    " it allow you to declare a function that behaves likes an iterator, allowing programmers to make an iterator in a fast, easy, and clean way"
   ]
  },
  {
   "cell_type": "code",
   "execution_count": null,
   "id": "d56fc723-0613-4387-8ff8-f015e76efb1a",
   "metadata": {},
   "outputs": [],
   "source": [
    "it is used to create a generator function."
   ]
  },
  {
   "cell_type": "code",
   "execution_count": 22,
   "id": "d2dd5425-9abf-4bbd-a9a8-f1ed7f067274",
   "metadata": {},
   "outputs": [],
   "source": [
    "def generatorfun():\n",
    "    yield 1\n",
    "    yield 2\n",
    "    yield 3  \n",
    "    for value in generatorgun():\n",
    "        print(value)\n",
    "    \n",
    "    "
   ]
  },
  {
   "cell_type": "code",
   "execution_count": 20,
   "id": "068adcdf-6cb3-40d5-91d1-262d5f90131f",
   "metadata": {},
   "outputs": [
    {
     "data": {
      "text/plain": [
       "<generator object generatorfun at 0x7f1d05bb8d60>"
      ]
     },
     "execution_count": 20,
     "metadata": {},
     "output_type": "execute_result"
    }
   ],
   "source": [
    "generatorfun()"
   ]
  },
  {
   "cell_type": "markdown",
   "id": "6ad8271d-b817-478a-b4b2-c45d30095e76",
   "metadata": {},
   "source": [
    "# create a generator function for prime numbers less than 1000.\n",
    "use the next() method to print the first 20 prime numbers."
   ]
  },
  {
   "cell_type": "code",
   "execution_count": 25,
   "id": "7aad2b49-3258-4249-bafa-629a12464f2d",
   "metadata": {},
   "outputs": [
    {
     "ename": "SyntaxError",
     "evalue": "invalid syntax (1972998092.py, line 2)",
     "output_type": "error",
     "traceback": [
      "\u001b[0;36m  Cell \u001b[0;32mIn [25], line 2\u001b[0;36m\u001b[0m\n\u001b[0;31m    D{}\u001b[0m\n\u001b[0m     ^\u001b[0m\n\u001b[0;31mSyntaxError\u001b[0m\u001b[0;31m:\u001b[0m invalid syntax\n"
     ]
    }
   ],
   "source": [
    "def gen_primes():\n",
    "    D{}\n",
    "    q = 2\n",
    "    while True:\n",
    "        if q not in D:\n",
    "            yield q\n",
    "            D[q*q]= [q]\n",
    "        else:\n",
    "            for p in D[q]:\n",
    "                D.setdefault(p+q,[]).append(p)\n",
    "            del D(q)\n",
    "            q +=1\n",
    "            \n",
    "    \n",
    "    "
   ]
  },
  {
   "cell_type": "code",
   "execution_count": 26,
   "id": "dc3208f7-3ac1-45b5-ab71-fda7fd87cf4e",
   "metadata": {},
   "outputs": [
    {
     "name": "stdin",
     "output_type": "stream",
     "text": [
      "Enter range: 20\n"
     ]
    },
    {
     "name": "stdout",
     "output_type": "stream",
     "text": [
      "Prime numbers: 1 2 3 5 7 11 13 17 19 "
     ]
    }
   ],
   "source": [
    "numr=int(input(\"Enter range:\"))\n",
    "\n",
    "print(\"Prime numbers:\",end=' ')\n",
    "\n",
    "for n in range(1,numr):\n",
    "\n",
    "    for i in range(2,n):\n",
    "\n",
    "        if(n%i==0):\n",
    "\n",
    "            break\n",
    "\n",
    "    else:\n",
    "\n",
    "        print(n,end=' ')     "
   ]
  },
  {
   "cell_type": "markdown",
   "id": "30b4f5e5-785f-4c02-8119-b8bd45efbdf3",
   "metadata": {
    "tags": []
   },
   "source": [
    "# write a program to print first 10 fibonacci numbers using while loop."
   ]
  },
  {
   "cell_type": "code",
   "execution_count": 28,
   "id": "822b58e9-fbe2-45d3-920a-e14e7a2006c6",
   "metadata": {},
   "outputs": [
    {
     "name": "stdin",
     "output_type": "stream",
     "text": [
      " 3\n"
     ]
    },
    {
     "name": "stdout",
     "output_type": "stream",
     "text": [
      "Fibonacci series is:  0 1 0 "
     ]
    }
   ],
   "source": [
    "n = int(input())\n",
    "a = 0\n",
    "b = 1\n",
    "sum = 0\n",
    "count = 1\n",
    "print(\"Fibonacci series is: \", end = \" \")\n",
    "while(count <= n):\n",
    "  count += 1\n",
    "  print(a, end=\" \")\n",
    "  a = b\n",
    "  b = sum\n",
    "  sum = a + b"
   ]
  },
  {
   "cell_type": "markdown",
   "id": "22dd4aac-71ce-4dd4-8a3f-4c2fa3db2d71",
   "metadata": {},
   "source": [
    "# write a program to check whether a given number is palindrome or not using a while loop."
   ]
  },
  {
   "cell_type": "code",
   "execution_count": null,
   "id": "d5650d80-e44e-4683-aaef-328b03b05dc9",
   "metadata": {},
   "outputs": [],
   "source": [
    "num = input('Enter any number : ')\n",
    "try:\n",
    "    val = int(num)\n",
    "    if num == str(num)[::-1]:\n",
    "      print('The given number is PALINDROME')\n",
    "    else:\n",
    "      print('The given number is NOT a palindrome')\n",
    "except ValueError:\n",
    "    print(\"That's not a valid number, Try Again !\")"
   ]
  },
  {
   "cell_type": "markdown",
   "id": "261276f2-5339-457e-8eb3-cfbe246d7655",
   "metadata": {},
   "source": [
    "# write a code to print odd number from 1 to 100 using list comprehension"
   ]
  },
  {
   "cell_type": "code",
   "execution_count": null,
   "id": "47ed6621-3b87-46c2-846d-0b1b0a66ad47",
   "metadata": {},
   "outputs": [],
   "source": [
    "odd_list = [element for element in range(1, 101) if element % 2 == 1 ]\n",
    "print(odd_list)"
   ]
  },
  {
   "cell_type": "markdown",
   "id": "191ab77b-1ad5-45ed-84bb-9575e7fae6b9",
   "metadata": {},
   "source": [
    "# write a list comprehension to iterate throughthe given string \"pwskills\""
   ]
  },
  {
   "cell_type": "code",
   "execution_count": 3,
   "id": "350fae88-75ab-4972-be2c-e2e89f3b8848",
   "metadata": {},
   "outputs": [
    {
     "data": {
      "text/plain": [
       "['P', 'W', 'S', 'K', 'I', 'L', 'L', 'S']"
      ]
     },
     "execution_count": 3,
     "metadata": {},
     "output_type": "execute_result"
    }
   ],
   "source": [
    "s = \"pwskills\"\n",
    "list(map(lambda s : s.upper(),s))\n"
   ]
  },
  {
   "cell_type": "markdown",
   "id": "2665d264-f4f6-4f34-918c-ee62a7ce308f",
   "metadata": {},
   "source": [
    "#what is iterator in python ? name the method used to initialise the iterator object and the method used for iteration. "
   ]
  },
  {
   "cell_type": "code",
   "execution_count": null,
   "id": "fd125d6e-9d54-4d9e-82de-507709b0f366",
   "metadata": {},
   "outputs": [],
   "source": [
    "ans - Iterator in Python is an object that is used to iterate over iterable\n",
    "objects like lists, tuples, dicts, and sets.\n",
    "\n",
    "The iterator object is initialized using the iter() method.\n",
    "It uses the next() method for iteration.\n",
    "\n"
   ]
  },
  {
   "cell_type": "markdown",
   "id": "356215ed-2826-41a9-9ce5-d998bc7a40b1",
   "metadata": {},
   "source": [
    "# use these method to print the first five elements of the given list\n",
    "[2,4,6,8,10,12,14,16,18,20]"
   ]
  },
  {
   "cell_type": "code",
   "execution_count": 5,
   "id": "00ec4181-ea14-4a80-ad24-4f830c5aa8f9",
   "metadata": {},
   "outputs": [],
   "source": [
    "l = [2,4,6,8,10,12,14,16,18,20]"
   ]
  },
  {
   "cell_type": "code",
   "execution_count": null,
   "id": "e37f16eb-fe1c-4b93-8a18-eb326787a116",
   "metadata": {},
   "outputs": [],
   "source": [
    "l1 = iter(l)\n",
    "while True:\n",
    "    item = next(l1,\"end\")\n",
    "    if item == \"emd\":\n",
    "        break\n",
    "        print(item)"
   ]
  },
  {
   "cell_type": "code",
   "execution_count": null,
   "id": "a788a297-489f-4373-8fe8-277f8e693c53",
   "metadata": {},
   "outputs": [],
   "source": []
  },
  {
   "cell_type": "code",
   "execution_count": null,
   "id": "7e50a16c-ecda-4236-b287-6512570545d4",
   "metadata": {},
   "outputs": [],
   "source": []
  },
  {
   "cell_type": "code",
   "execution_count": null,
   "id": "e3b0bed0-b7c5-4576-b206-a13b24c1f7be",
   "metadata": {},
   "outputs": [],
   "source": []
  }
 ],
 "metadata": {
  "kernelspec": {
   "display_name": "Python 3 (ipykernel)",
   "language": "python",
   "name": "python3"
  },
  "language_info": {
   "codemirror_mode": {
    "name": "ipython",
    "version": 3
   },
   "file_extension": ".py",
   "mimetype": "text/x-python",
   "name": "python",
   "nbconvert_exporter": "python",
   "pygments_lexer": "ipython3",
   "version": "3.10.6"
  }
 },
 "nbformat": 4,
 "nbformat_minor": 5
}
